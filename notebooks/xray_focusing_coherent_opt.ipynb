{
 "cells": [
  {
   "cell_type": "code",
   "execution_count": 1,
   "id": "022564f9-c645-4c48-97e8-ff0689c22ae9",
   "metadata": {},
   "outputs": [],
   "source": [
    "import numpy as np \n",
    "import torch\n",
    "import matplotlib.pyplot as plt\n",
    "import matplotlib\n",
    "from dataclasses import replace\n",
    "import time\n",
    "from datetime import datetime\n",
    "import pandas as pd\n",
    "import nlopt\n",
    "import copy"
   ]
  },
  {
   "cell_type": "code",
   "execution_count": 2,
   "id": "79520ba3-0379-43bf-b47e-179eaa23e0f7",
   "metadata": {},
   "outputs": [],
   "source": [
    "import sys\n",
    "sys.path.append('/home/gridsan/wmichaels/xray_coherence')\n",
    "\n",
    "from src.simparams import SimParams\n",
    "from src.threshold_opt import threshold_opt, x_I_opt\n",
    "from src.forwardmodels import forward_model_focus_plane_wave_power, field_z_arbg_z, forward_model_focus_point_source_power\n",
    "from src.elements import ArbitraryElement, ZonePlate\n",
    "from src.propagation import propagate_z\n",
    "from src.sources import plane_wave, incoherent_source\n",
    "from src.util import kramers_law_weights, create_material_map, refractive_index_at_wvl, quasi_monochromatic_spectrum\n",
    "from src.inversedesign_utils import heaviside_projection, zp_init"
   ]
  },
  {
   "cell_type": "code",
   "execution_count": 3,
   "id": "44127053-ff8d-48e3-b51f-a7a8eca7cdb4",
   "metadata": {},
   "outputs": [],
   "source": [
    "matplotlib.rcParams['figure.dpi'] = 140\n",
    "matplotlib.rcParams.update({'font.size': 15})"
   ]
  },
  {
   "cell_type": "code",
   "execution_count": 4,
   "id": "653cb32e-2a01-4230-b330-84d91b4dae82",
   "metadata": {},
   "outputs": [
    {
     "name": "stdout",
     "output_type": "stream",
     "text": [
      "cuda available: True\n",
      "Using device: cuda\n"
     ]
    }
   ],
   "source": [
    "print(f\"cuda available: {torch.cuda.is_available()}\")\n",
    "device = torch.device(\"cuda\" if torch.cuda.is_available() else \"cpu\")\n",
    "print(f\"Using device: {device}\")"
   ]
  },
  {
   "cell_type": "markdown",
   "id": "a8e14f71-3830-46ac-b729-b58abf89b57b",
   "metadata": {},
   "source": [
    "# Standard values\n",
    "## These are values used consistently across sweeps while another variable is being changed. "
   ]
  },
  {
   "cell_type": "code",
   "execution_count": 5,
   "id": "b09797e7-e782-4216-ab25-aa98bf892de8",
   "metadata": {},
   "outputs": [
    {
     "name": "stdout",
     "output_type": "stream",
     "text": [
      "env: PYTORCH_CUDA_ALLOC_CONF=max_split_size_mb:512\n"
     ]
    }
   ],
   "source": [
    "%env PYTORCH_CUDA_ALLOC_CONF=max_split_size_mb:512"
   ]
  },
  {
   "cell_type": "code",
   "execution_count": 6,
   "id": "36e7d6f0-9e72-41bd-baf9-72a60d698cd3",
   "metadata": {
    "tags": []
   },
   "outputs": [
    {
     "name": "stdout",
     "output_type": "stream",
     "text": [
      "finished lam 1 of 5\n",
      "finished lam 2 of 5\n",
      "finished lam 3 of 5\n",
      "finished lam 4 of 5\n",
      "finished lam 5 of 5\n"
     ]
    }
   ],
   "source": [
    "Nwvl = 5\n",
    "Vp = 30e3\n",
    "emin = 1e3\n",
    "rsrc = 50e-6\n",
    "zsrc = 10e-3\n",
    "Nmodes = 200\n",
    "sparse_tol = 5e-2\n",
    "filter_thickness = 0.5e-6\n",
    "filter_material = 'w'\n",
    "Vcenter = 8e3\n",
    "bandwidth = 0.01\n",
    "delta = 1e-6\n",
    "beta = 1e-7\n",
    "thickness = 250e-9\n",
    "z = 10e-3\n",
    "Nx = 2**17\n",
    "dx = 1e-9\n",
    "Wcenter = 16e-9\n",
    "designx = 16e-9\n",
    "n = int(designx // dx) # number of simulation pixels within one design pixel\n",
    "Wzero = 128e-9\n",
    "max_eval_std = 10\n",
    "max_inner_eval_std = 10\n",
    "method = nlopt.LD_MMA\n",
    "betas_std = list(np.logspace(0, 2.5, 5))\n",
    "\n",
    "lams_std, weights_std = kramers_law_weights(\n",
    "    e_min = emin, \n",
    "    e_max = Vp, \n",
    "    N = Nwvl, \n",
    "    filter_weights = True, \n",
    "    filter_thickness = filter_thickness,\n",
    "    filter_material = filter_material,\n",
    "    uniform_energy = True, \n",
    "    device = device\n",
    ")\n",
    "\n",
    "# lams_std, weights_std = quasi_monochromatic_spectrum(\n",
    "#     central_energy_ev = Vcenter, \n",
    "#     N = Nwvl, \n",
    "#     bandwidth = bandwidth, \n",
    "#     device = device\n",
    "# )\n",
    "\n",
    "sim_params_std = SimParams(\n",
    "    Ny=1, \n",
    "    Nx=Nx, \n",
    "    dx=dx,\n",
    "    device=device, \n",
    "    dtype = torch.complex64,\n",
    "    lams=lams_std, \n",
    "    weights=weights_std\n",
    "    )\n",
    "\n",
    "modes, evals = incoherent_source(sim_params = sim_params_std, rsrc = rsrc, z = zsrc, N = Nmodes, sparse_tol = sparse_tol)"
   ]
  },
  {
   "cell_type": "code",
   "execution_count": 7,
   "id": "797ff8f9-4c5e-420c-8729-8c77a932db87",
   "metadata": {
    "tags": []
   },
   "outputs": [],
   "source": [
    "pow_modes = modes.transpose(0, 1)\n",
    "pow_evals = evals.transpose(0, 1)\n",
    "\n",
    "# Calculate intensity array and delete output_modes\n",
    "P_in = torch.sum(pow_modes.abs().pow(2)*(pow_evals.unsqueeze(-1).unsqueeze(-1)), dim=1).sum().real\n",
    "\n",
    "Ncenter = Wcenter / sim_params_std.dx\n",
    "Nzero = int(Wzero / (sim_params_std.dx * n))\n",
    "\n",
    "au_map = create_material_map(\"au\")\n",
    "uniform_map = [np.array([8e-12, 8e-2]), np.array([1 - delta + 1j*beta, 1 - delta + 1j*beta])]\n",
    "# elem_ind = refractive_index_at_wvl(5e-11, au_map)\n",
    "\n",
    "x_init = torch.rand(sim_params_std.Nx // n // 2).cpu().numpy()\n",
    "x_init[x_init.shape[0]-Nzero:] = 0\n",
    "\n",
    "forward_model = forward_model_focus_plane_wave_power\n",
    "forward_model = forward_model_focus_point_source_power\n",
    "\n",
    "elem_params_std = {\n",
    "    \"thickness\": thickness, \n",
    "    \"elem_map\": au_map,\n",
    "    \"gap_map\": [np.array([8e-12, 8e-2]), np.array([1., 1.])]\n",
    "}\n",
    "\n",
    "opt_params_std = {\n",
    "    \"method\": method,\n",
    "    \"n\": n, \n",
    "    \"betas\": betas_std,\n",
    "    \"max_eval\": max_eval_std, \n",
    "    \"inner_maxeval\": max_inner_eval_std, \n",
    "    \"x_init\": x_init, \n",
    "    \"forward_model\": forward_model\n",
    "}\n",
    "\n",
    "args_std = (elem_params_std, int(Ncenter), z)\n",
    "args_std = (elem_params_std, int(Ncenter), z, modes, evals)\n",
    "\n",
    "# x_init = zp_init(\n",
    "#     lam = sim_params_std.lams[torch.argmax(sim_params_std.weights)], \n",
    "#     f = z, \n",
    "#     min_feature_size = sim_params_std.dx * opt_params_std[\"n\"], \n",
    "#     sim_params = sim_params_std, \n",
    "#     opt_params = opt_params_std\n",
    "# )\n",
    "\n",
    "design_dict_std = {\n",
    "    \"sim_params\": sim_params_std,\n",
    "    \"elem_params\": elem_params_std,\n",
    "    \"opt_params\": opt_params_std,\n",
    "    \"args\": args_std,\n",
    "    \"P_in\": P_in\n",
    "}"
   ]
  },
  {
   "cell_type": "code",
   "execution_count": 8,
   "id": "42a7d7c6-3c84-4db3-a990-31dcbdcf599c",
   "metadata": {},
   "outputs": [
    {
     "data": {
      "text/plain": [
       "tensor(999.2532, device='cuda:0')"
      ]
     },
     "execution_count": 8,
     "metadata": {},
     "output_type": "execute_result"
    }
   ],
   "source": [
    "P_in"
   ]
  },
  {
   "cell_type": "code",
   "execution_count": 9,
   "id": "56817294-39ed-4703-95f0-8d12a7db25d1",
   "metadata": {},
   "outputs": [
    {
     "name": "stdout",
     "output_type": "stream",
     "text": [
      "torch.Size([200, 5, 1, 131072])\n"
     ]
    }
   ],
   "source": [
    "print(modes.shape)"
   ]
  },
  {
   "cell_type": "code",
   "execution_count": 10,
   "id": "87b1ad47-2e14-410b-a5eb-2a3c4df80dc8",
   "metadata": {},
   "outputs": [
    {
     "name": "stdout",
     "output_type": "stream",
     "text": [
      "torch.Size([200, 5])\n"
     ]
    }
   ],
   "source": [
    "print(evals.shape)"
   ]
  },
  {
   "cell_type": "code",
   "execution_count": 11,
   "id": "7734884a-2e3b-4c74-b300-7e26ec4ecced",
   "metadata": {},
   "outputs": [
    {
     "data": {
      "text/plain": [
       "16"
      ]
     },
     "execution_count": 11,
     "metadata": {},
     "output_type": "execute_result"
    }
   ],
   "source": [
    "n"
   ]
  },
  {
   "cell_type": "code",
   "execution_count": 12,
   "id": "615ef5a9-23bc-41d0-a7a2-9e61889d8d5b",
   "metadata": {},
   "outputs": [
    {
     "data": {
      "image/png": "[encoded data removed]",
      "text/plain": [
       "<Figure size 896x672 with 1 Axes>"
      ]
     },
     "metadata": {},
     "output_type": "display_data"
    }
   ],
   "source": [
    "h = 4.135667696e-15 # eV s\n",
    "c = 299792458 # m/s\n",
    "energies_std = h * c / lams_std\n",
    "\n",
    "plt.plot(energies_std.cpu()/1e3, weights_std.cpu(), color=\"black\", marker=\".\")\n",
    "plt.xlabel(\"energy [keV]\")\n",
    "plt.ylabel(\"weight\")\n",
    "plt.show()"
   ]
  },
  {
   "cell_type": "markdown",
   "id": "f5a3421a-1d03-47eb-95a7-e066eb6dcf45",
   "metadata": {},
   "source": [
    "# Timing of single forward model iteration"
   ]
  },
  {
   "cell_type": "code",
   "execution_count": 13,
   "id": "8fdb74d4-5b7f-44c6-80d7-4e7925d28433",
   "metadata": {},
   "outputs": [],
   "source": [
    "ndof = int(sim_params_std.Nx / opt_params_std[\"n\"] // 2)"
   ]
  },
  {
   "cell_type": "code",
   "execution_count": 14,
   "id": "8e828832-cdae-4b1f-b336-69e18259a87b",
   "metadata": {},
   "outputs": [
    {
     "data": {
      "text/plain": [
       "array([0.8677044 , 0.08594865, 0.2511592 , ..., 0.        , 0.        ,\n",
       "       0.        ], dtype=float32)"
      ]
     },
     "execution_count": 14,
     "metadata": {},
     "output_type": "execute_result"
    }
   ],
   "source": [
    "x_init"
   ]
  },
  {
   "cell_type": "code",
   "execution_count": 15,
   "id": "0a91d314-0715-4f25-bf65-19209726a58b",
   "metadata": {},
   "outputs": [
    {
     "name": "stdout",
     "output_type": "stream",
     "text": [
      "332 ms ± 1.05 ms per loop (mean ± std. dev. of 7 runs, 1 loop each)\n"
     ]
    }
   ],
   "source": [
    "%%timeit\n",
    "forward_model(\n",
    "    torch.tensor(x_init), \n",
    "    sim_params_std, \n",
    "    opt_params_std, \n",
    "    *args_std\n",
    ")"
   ]
  },
  {
   "cell_type": "markdown",
   "id": "0ac934f8-0ddc-4f2c-8461-e692aa4a4df2",
   "metadata": {},
   "source": [
    "# Simulation parameters"
   ]
  },
  {
   "cell_type": "code",
   "execution_count": 16,
   "id": "7fb3aa54-b7f9-42f1-854f-a534fda80c2b",
   "metadata": {},
   "outputs": [
    {
     "name": "stdout",
     "output_type": "stream",
     "text": [
      "simulation domain width [mm]\n"
     ]
    },
    {
     "data": {
      "text/plain": [
       "0.13107200000000002"
      ]
     },
     "execution_count": 16,
     "metadata": {},
     "output_type": "execute_result"
    }
   ],
   "source": [
    "print(\"simulation domain width [mm]\")\n",
    "sim_params_std.dx * sim_params_std.Nx * 1e3"
   ]
  },
  {
   "cell_type": "code",
   "execution_count": 17,
   "id": "a1d85381-ef01-42f6-9307-e7b0b3780ee5",
   "metadata": {},
   "outputs": [
    {
     "name": "stdout",
     "output_type": "stream",
     "text": [
      "opt dof\n"
     ]
    },
    {
     "data": {
      "text/plain": [
       "4096"
      ]
     },
     "execution_count": 17,
     "metadata": {},
     "output_type": "execute_result"
    }
   ],
   "source": [
    "print(\"opt dof\")\n",
    "int(sim_params_std.Nx / opt_params_std[\"n\"] // 2)"
   ]
  },
  {
   "cell_type": "code",
   "execution_count": 18,
   "id": "b783c248-434b-4126-a342-3262aa8a7422",
   "metadata": {},
   "outputs": [
    {
     "name": "stdout",
     "output_type": "stream",
     "text": [
      "min feature size [nm]\n"
     ]
    },
    {
     "data": {
      "text/plain": [
       "16.0"
      ]
     },
     "execution_count": 18,
     "metadata": {},
     "output_type": "execute_result"
    }
   ],
   "source": [
    "print(\"min feature size [nm]\")\n",
    "sim_params_std.dx * opt_params_std[\"n\"] * 1e9"
   ]
  },
  {
   "cell_type": "markdown",
   "id": "563323b7-d446-46c8-b13d-a8dff54f9cc4",
   "metadata": {},
   "source": [
    "# Sweep functions"
   ]
  },
  {
   "cell_type": "code",
   "execution_count": 19,
   "id": "0588b856-5efc-499c-ae5e-d8be8b2a4d62",
   "metadata": {},
   "outputs": [],
   "source": [
    "def threshold_opt_sweep(design_dicts):\n",
    "    opt_xs = []\n",
    "    opt_x_fulls = []\n",
    "    opt_Is = []\n",
    "    opt_objs = []\n",
    "    start_time = time.time()\n",
    "    for i, design_dict in enumerate(design_dicts):\n",
    "        opt_x, opt_x_full, opt_I, opt_obj = x_I_opt(design_dict)\n",
    "        \n",
    "        opt_xs.append(opt_x)\n",
    "        opt_x_fulls.append(opt_x_full)\n",
    "        opt_Is.append(opt_I)\n",
    "        opt_objs.append(opt_obj)\n",
    "        \n",
    "        curr_time = time.time()\n",
    "        print(f\"finished design dict {i}\")\n",
    "        print(f\"time elapsed: {round(curr_time - start_time)} s\")\n",
    "        print(\"----------------------------------\")\n",
    "        \n",
    "    return opt_xs, opt_x_fulls, opt_Is, opt_objs"
   ]
  },
  {
   "cell_type": "code",
   "execution_count": 20,
   "id": "14fd4100-90fe-472e-a9e4-fab622402ba1",
   "metadata": {},
   "outputs": [],
   "source": [
    "def threshold_opt_iterative(design_dicts):\n",
    "    opt_xs = []\n",
    "    opt_x_fulls = []\n",
    "    opt_Is = []\n",
    "    opt_objs = []\n",
    "    start_time = time.time()\n",
    "    for i, design_dict in enumerate(design_dicts):\n",
    "        \n",
    "        if i == 0:\n",
    "            opt_x, opt_x_full, opt_I, opt_obj = x_I_opt(design_dict)\n",
    "        else: \n",
    "            design_dict_diffx = copy.deepcopy(design_dict) \n",
    "            design_dict_diffx[\"x_init\"] = opt_xs[-1]\n",
    "            opt_x, opt_x_full, opt_I, opt_obj = x_I_opt(design_dict)\n",
    "        \n",
    "        opt_xs.append(opt_x)\n",
    "        opt_x_fulls.append(opt_x_full)\n",
    "        opt_Is.append(opt_I)\n",
    "        opt_objs.append(opt_obj)\n",
    "        del opt_x\n",
    "        del opt_x_full\n",
    "        del opt_I\n",
    "        del opt_obj\n",
    "        \n",
    "        curr_time = time.time()\n",
    "        print(f\"finished design dict {i}\")\n",
    "        print(f\"time elapsed: {round(curr_time - start_time)} s\")\n",
    "        print(\"----------------------------------\")\n",
    "        \n",
    "    return opt_xs, opt_x_fulls, opt_Is, opt_objs"
   ]
  },
  {
   "cell_type": "code",
   "execution_count": 21,
   "id": "357009c1-38a6-4b9e-bab2-8abbaee71494",
   "metadata": {},
   "outputs": [],
   "source": [
    "def get_formatted_datetime():\n",
    "    now = datetime.now()\n",
    "    formatted_datetime = now.strftime(\"%Y-%m-%d %H.%M.%S\")\n",
    "    return formatted_datetime"
   ]
  },
  {
   "cell_type": "code",
   "execution_count": 22,
   "id": "05bec793-e859-403c-b298-59cf919e5dd4",
   "metadata": {},
   "outputs": [],
   "source": [
    "def threshold_opt_sweep_save(design_dicts, sweep_func, path_string=\"\"):\n",
    "    opt_xs, opt_x_fulls, opt_Is, opt_objs = sweep_func(design_dicts)\n",
    "    end_time = get_formatted_datetime()\n",
    "\n",
    "    if path_string == \"\":\n",
    "        path_id = end_time\n",
    "    else:\n",
    "        path_id = path_string + end_time\n",
    "    \n",
    "    for arr, string in zip([opt_xs, opt_x_fulls, opt_Is, opt_objs], [\"xs\", \"x_fulls\", \"Is\", \"objs\"]):\n",
    "        file_path = f'/home/gridsan/wmichaels/opt_out/{path_id}_{string}'\n",
    "            # np.save(file_path, arr, allow_pickle=True)\n",
    "        np.savez(file_path, *arr)\n",
    "    \n",
    "    dict_file_path = f'/home/gridsan/wmichaels/opt_out/{path_id}_dict'\n",
    "    np.save(dict_file_path, design_dicts)"
   ]
  },
  {
   "cell_type": "markdown",
   "id": "b212a506-1133-4524-8a17-a68b08b1c3d4",
   "metadata": {},
   "source": [
    "# Method"
   ]
  },
  {
   "cell_type": "code",
   "execution_count": 78,
   "id": "e220f468-e8f6-48a6-8dce-62b02c2cc979",
   "metadata": {},
   "outputs": [],
   "source": [
    "methods = [nlopt.LD_MMA, nlopt.LD_CCSAQ]\n",
    "design_dicts = []\n",
    "for method in methods:\n",
    "    design_dict = copy.deepcopy(design_dict_std) \n",
    "    design_dict[\"opt_params\"][\"method\"] = method\n",
    "    design_dicts.append(design_dict)"
   ]
  },
  {
   "cell_type": "code",
   "execution_count": 79,
   "id": "354fadcd-da9f-4d7f-bd74-6b13652eeb34",
   "metadata": {},
   "outputs": [
    {
     "name": "stdout",
     "output_type": "stream",
     "text": [
      "finished design dict 0\n",
      "time elapsed: 55 s\n",
      "----------------------------------\n",
      "finished design dict 1\n",
      "time elapsed: 116 s\n",
      "----------------------------------\n"
     ]
    }
   ],
   "source": [
    "threshold_opt_sweep_save(design_dicts, threshold_opt_sweep, \"method_incoh\")"
   ]
  },
  {
   "cell_type": "markdown",
   "id": "536ff732-0379-4a75-9267-49bea19180ac",
   "metadata": {},
   "source": [
    "# Filter"
   ]
  },
  {
   "cell_type": "code",
   "execution_count": 33,
   "id": "c522ec1b-c529-41d9-b3aa-f406cc248f82",
   "metadata": {},
   "outputs": [],
   "source": [
    "filtered = [False, True]\n",
    "design_dicts = []\n",
    "\n",
    "for fil in filtered:\n",
    "    design_dict = copy.deepcopy(design_dict_std)\n",
    "\n",
    "    lams, weights = kramers_law_weights(\n",
    "        e_min = emin, \n",
    "        e_max = Vp, \n",
    "        N = Nwvl, \n",
    "        filter_weights = fil, \n",
    "        filter_thickness = filter_thickness,\n",
    "        filter_material = filter_material,\n",
    "        uniform_energy = True, \n",
    "        device = device\n",
    "    )\n",
    "    \n",
    "    sim_params = SimParams(\n",
    "        Ny=1, \n",
    "        Nx=sim_params_std.Nx, \n",
    "        dx=dx,\n",
    "        device=device, \n",
    "        dtype=torch.complex64,\n",
    "        lams=lams, \n",
    "        weights=weights\n",
    "        )\n",
    "    design_dict[\"sim_params\"] = sim_params\n",
    "    design_dicts.append(design_dict)"
   ]
  },
  {
   "cell_type": "code",
   "execution_count": 34,
   "id": "f9802be7-9fd0-4ae9-a0f3-3ad42fb52baa",
   "metadata": {},
   "outputs": [
    {
     "name": "stdout",
     "output_type": "stream",
     "text": [
      "finished design dict 0\n",
      "time elapsed: 9 s\n",
      "----------------------------------\n",
      "finished design dict 1\n",
      "time elapsed: 18 s\n",
      "----------------------------------\n"
     ]
    }
   ],
   "source": [
    "threshold_opt_sweep_save(design_dicts, threshold_opt_sweep, \"filter_comp_tungsten\")"
   ]
  },
  {
   "cell_type": "markdown",
   "id": "0fd2f9da-b064-4579-873f-affef8f03ec4",
   "metadata": {},
   "source": [
    "# Max eval per stage"
   ]
  },
  {
   "cell_type": "code",
   "execution_count": 39,
   "id": "954e5391-2404-45ac-b756-8dac4709a031",
   "metadata": {},
   "outputs": [],
   "source": [
    "max_evals = [10, 20, 50, 100]\n",
    "design_dicts = []\n",
    "for max_eval in max_evals:\n",
    "    design_dict = copy.deepcopy(design_dict_std) \n",
    "    design_dict[\"opt_params\"][\"max_eval\"] = max_eval\n",
    "    design_dicts.append(design_dict)"
   ]
  },
  {
   "cell_type": "code",
   "execution_count": 40,
   "id": "1883bf6d-e99c-409a-a804-ff6f511447bc",
   "metadata": {},
   "outputs": [
    {
     "name": "stdout",
     "output_type": "stream",
     "text": [
      "finished design dict 0\n",
      "time elapsed: 55 s\n",
      "----------------------------------\n",
      "finished design dict 1\n",
      "time elapsed: 162 s\n",
      "----------------------------------\n",
      "finished design dict 2\n",
      "time elapsed: 423 s\n",
      "----------------------------------\n",
      "finished design dict 3\n",
      "time elapsed: 980 s\n",
      "----------------------------------\n"
     ]
    }
   ],
   "source": [
    "threshold_opt_sweep_save(design_dicts, threshold_opt_sweep, \"max_eval_incoh\")"
   ]
  },
  {
   "cell_type": "markdown",
   "id": "2ea70b14-7479-4379-992b-a51ab1cbc902",
   "metadata": {},
   "source": [
    "# Max inner eval per stage"
   ]
  },
  {
   "cell_type": "code",
   "execution_count": 42,
   "id": "09e8efcc-9a5e-4183-966c-60aab293fd69",
   "metadata": {},
   "outputs": [],
   "source": [
    "inner_max_evals = [2, 5, 10, 20, 50]\n",
    "design_dicts = []\n",
    "for inner_max_eval in inner_max_evals:\n",
    "    design_dict = copy.deepcopy(design_dict_std) \n",
    "    design_dict[\"opt_params\"][\"inner_maxeval\"] = inner_max_eval\n",
    "    design_dicts.append(design_dict)"
   ]
  },
  {
   "cell_type": "code",
   "execution_count": 43,
   "id": "43c2cb34-ae7e-4f74-a3a3-789e3ab12a9b",
   "metadata": {},
   "outputs": [
    {
     "name": "stdout",
     "output_type": "stream",
     "text": [
      "finished design dict 0\n",
      "time elapsed: 66 s\n",
      "----------------------------------\n",
      "finished design dict 1\n",
      "time elapsed: 134 s\n",
      "----------------------------------\n",
      "finished design dict 2\n",
      "time elapsed: 203 s\n",
      "----------------------------------\n",
      "finished design dict 3\n",
      "time elapsed: 268 s\n",
      "----------------------------------\n",
      "finished design dict 4\n",
      "time elapsed: 334 s\n",
      "----------------------------------\n"
     ]
    }
   ],
   "source": [
    "torch.cuda.empty_cache()\n",
    "threshold_opt_sweep_save(design_dicts, threshold_opt_sweep, \"inner_max_eval_incoh\")"
   ]
  },
  {
   "cell_type": "markdown",
   "id": "2c7584ca-231a-48f0-a921-8f62890522fc",
   "metadata": {},
   "source": [
    "# Beta schedule"
   ]
  },
  {
   "cell_type": "code",
   "execution_count": 85,
   "id": "77d0d1a7-52fc-456f-9760-fa56ba534d88",
   "metadata": {},
   "outputs": [
    {
     "data": {
      "text/plain": [
       "array([1.])"
      ]
     },
     "execution_count": 85,
     "metadata": {},
     "output_type": "execute_result"
    }
   ],
   "source": [
    "np.logspace(0, 2.5, 1)"
   ]
  },
  {
   "cell_type": "code",
   "execution_count": 86,
   "id": "f2571b4d-fbbb-4408-9c8c-cd2647431f15",
   "metadata": {},
   "outputs": [],
   "source": [
    "bmaxes = [1, 2, 2.5, 3]\n",
    "nums = [1, 2, 3, 4, 5]\n",
    "\n",
    "beta_schedules = [\n",
    "    list(np.logspace(0, 2.5, num)) for num in nums\n",
    "]\n",
    "\n",
    "design_dicts = []\n",
    "for beta_s in beta_schedules:\n",
    "    design_dict = copy.deepcopy(design_dict_std) \n",
    "    design_dict[\"opt_params\"][\"betas\"] = beta_s\n",
    "    design_dicts.append(design_dict)"
   ]
  },
  {
   "cell_type": "code",
   "execution_count": 87,
   "id": "729aa0ac-bd6f-4f2d-9294-d54bba4dedbc",
   "metadata": {},
   "outputs": [
    {
     "name": "stdout",
     "output_type": "stream",
     "text": [
      "finished design dict 0\n",
      "time elapsed: 2 s\n",
      "----------------------------------\n",
      "finished design dict 1\n",
      "time elapsed: 6 s\n",
      "----------------------------------\n",
      "finished design dict 2\n",
      "time elapsed: 12 s\n",
      "----------------------------------\n",
      "finished design dict 3\n",
      "time elapsed: 19 s\n",
      "----------------------------------\n",
      "finished design dict 4\n",
      "time elapsed: 29 s\n",
      "----------------------------------\n"
     ]
    }
   ],
   "source": [
    "threshold_opt_sweep_save(design_dicts, threshold_opt_sweep, \"beta_schedule_num\")"
   ]
  },
  {
   "cell_type": "markdown",
   "id": "881d0507-f61c-4000-9e72-6cdc6e706c60",
   "metadata": {},
   "source": [
    "# Simulation spacing"
   ]
  },
  {
   "cell_type": "code",
   "execution_count": 31,
   "id": "9f508b7f-66a8-46a4-ad09-f0a4a676da90",
   "metadata": {},
   "outputs": [],
   "source": [
    "dxs = [1e-9, 2e-9, 4e-9]\n",
    "\n",
    "design_dicts = []\n",
    "for dxi in dxs:\n",
    "    design_dict = copy.deepcopy(design_dict_std)\n",
    "    sim_params = SimParams(\n",
    "        Ny=1, \n",
    "        Nx=Nx, \n",
    "        dx=dxi,\n",
    "        device=device, \n",
    "        dtype=torch.complex64,\n",
    "        lams=lams_std, \n",
    "        weights=weights_std\n",
    "        )\n",
    "\n",
    "    n = int(designx / dxi)\n",
    "\n",
    "    x_init = torch.rand(sim_params.Nx // n // 2).cpu().numpy()\n",
    "    x_init[x_init.shape[0]-Nzero:] = 0\n",
    "    \n",
    "    design_dict[\"sim_params\"] = sim_params\n",
    "    design_dict[\"opt_params\"][\"n\"] = n\n",
    "    design_dict[\"opt_params\"][\"x_init\"] = x_init\n",
    "    design_dicts.append(design_dict)"
   ]
  },
  {
   "cell_type": "code",
   "execution_count": 32,
   "id": "beced409-246a-42df-9855-8bf7b6a85531",
   "metadata": {},
   "outputs": [
    {
     "name": "stdout",
     "output_type": "stream",
     "text": [
      "finished design dict 0\n",
      "time elapsed: 186 s\n",
      "----------------------------------\n",
      "finished design dict 1\n",
      "time elapsed: 385 s\n",
      "----------------------------------\n",
      "finished design dict 2\n",
      "time elapsed: 610 s\n",
      "----------------------------------\n"
     ]
    }
   ],
   "source": [
    "threshold_opt_sweep_save(design_dicts, threshold_opt_sweep, \"dx_sweep\")"
   ]
  },
  {
   "cell_type": "markdown",
   "id": "79d46ed7-d159-407e-b1f2-48aeba0f15fb",
   "metadata": {},
   "source": [
    "# Thickness"
   ]
  },
  {
   "cell_type": "code",
   "execution_count": 80,
   "id": "9e4eeb58-3758-419c-84d5-d67eae67b5c5",
   "metadata": {},
   "outputs": [],
   "source": [
    "thicknesses = np.array([0.05, 0.1, 0.25, 0.5, 1.0, 2.0])*1e-6\n",
    "design_dicts = []\n",
    "for t in thicknesses:\n",
    "    design_dict = copy.deepcopy(design_dict_std) \n",
    "    design_dict[\"elem_params\"][\"thickness\"] = t\n",
    "    design_dicts.append(design_dict)"
   ]
  },
  {
   "cell_type": "code",
   "execution_count": 81,
   "id": "c9f8e3c6-56a0-4f68-a3d7-a2cb5188e087",
   "metadata": {},
   "outputs": [
    {
     "name": "stdout",
     "output_type": "stream",
     "text": [
      "finished design dict 0\n",
      "time elapsed: 62 s\n",
      "----------------------------------\n",
      "finished design dict 1\n",
      "time elapsed: 124 s\n",
      "----------------------------------\n",
      "finished design dict 2\n",
      "time elapsed: 186 s\n",
      "----------------------------------\n",
      "finished design dict 3\n",
      "time elapsed: 248 s\n",
      "----------------------------------\n",
      "finished design dict 4\n",
      "time elapsed: 305 s\n",
      "----------------------------------\n",
      "finished design dict 5\n",
      "time elapsed: 360 s\n",
      "----------------------------------\n"
     ]
    }
   ],
   "source": [
    "threshold_opt_sweep_save(design_dicts, threshold_opt_sweep, \"thickness_incoh\")"
   ]
  },
  {
   "cell_type": "markdown",
   "id": "c803b7e2-685b-4bfd-aecd-34236e120014",
   "metadata": {},
   "source": [
    "# Simulation width"
   ]
  },
  {
   "cell_type": "code",
   "execution_count": 50,
   "id": "3e2d0fa5-7ee3-492b-b769-ea5bd2785beb",
   "metadata": {},
   "outputs": [],
   "source": [
    "widths = [2**20, 2**21, 2**22, 2**23, 2**24]\n",
    "\n",
    "design_dicts = []\n",
    "for w in widths:\n",
    "    design_dict = copy.deepcopy(design_dict_std)\n",
    "    sim_params = SimParams(\n",
    "        Ny=1, \n",
    "        Nx=w, \n",
    "        dx=dx,\n",
    "        device=device, \n",
    "        dtype=torch.complex64,\n",
    "        lams=lams_std, \n",
    "        weights=weights_std\n",
    "        )\n",
    "\n",
    "    x_init = torch.rand(sim_params.Nx // opt_params_std[\"n\"] // 2).cpu().numpy()\n",
    "    x_init[x_init.shape[0]-Nzero:] = 0\n",
    "    \n",
    "    design_dict[\"sim_params\"] = sim_params\n",
    "    design_dict[\"x_init\"] = x_init\n",
    "    design_dicts.append(design_dict)"
   ]
  },
  {
   "cell_type": "code",
   "execution_count": 51,
   "id": "fb5caabc-b9c3-4a04-8233-646063a32592",
   "metadata": {},
   "outputs": [
    {
     "name": "stdout",
     "output_type": "stream",
     "text": [
      "finished design dict 0\n",
      "time elapsed: 3 s\n",
      "----------------------------------\n",
      "finished design dict 1\n",
      "time elapsed: 9 s\n",
      "----------------------------------\n",
      "finished design dict 2\n",
      "time elapsed: 18 s\n",
      "----------------------------------\n",
      "finished design dict 3\n",
      "time elapsed: 36 s\n",
      "----------------------------------\n",
      "finished design dict 4\n",
      "time elapsed: 70 s\n",
      "----------------------------------\n"
     ]
    }
   ],
   "source": [
    "threshold_opt_sweep_save(design_dicts, threshold_opt_sweep, \"sim_width\")"
   ]
  },
  {
   "cell_type": "markdown",
   "id": "4d1a8775-6303-407a-8e13-0397cd71b49c",
   "metadata": {},
   "source": [
    "# Width of element"
   ]
  },
  {
   "cell_type": "code",
   "execution_count": 52,
   "id": "bc6bb65e-abd9-4147-805d-8d8a1bb1d3eb",
   "metadata": {},
   "outputs": [],
   "source": [
    "facs = [4, 2, 1]\n",
    "\n",
    "design_dicts = []\n",
    "for fac in facs:\n",
    "    design_dict = copy.deepcopy(design_dict_std)\n",
    "\n",
    "    x_init = torch.rand(sim_params_std.Nx // opt_params_std[\"n\"] // 2).cpu().numpy()[::fac]\n",
    "    x_init[x_init.shape[0]-Nzero:] = 0\n",
    "    \n",
    "    design_dict[\"opt_params\"][\"x_init\"] = x_init\n",
    "    design_dicts.append(design_dict)"
   ]
  },
  {
   "cell_type": "code",
   "execution_count": 53,
   "id": "c490ccd0-dada-4f0c-90a5-3ed0b9b1117d",
   "metadata": {},
   "outputs": [
    {
     "name": "stdout",
     "output_type": "stream",
     "text": [
      "finished design dict 0\n",
      "time elapsed: 9 s\n",
      "----------------------------------\n",
      "finished design dict 1\n",
      "time elapsed: 17 s\n",
      "----------------------------------\n",
      "finished design dict 2\n",
      "time elapsed: 27 s\n",
      "----------------------------------\n"
     ]
    }
   ],
   "source": [
    "threshold_opt_sweep_save(design_dicts, threshold_opt_sweep, \"elem_width\")"
   ]
  },
  {
   "cell_type": "markdown",
   "id": "83360e7a-9540-44a5-9289-a15b4950b738",
   "metadata": {},
   "source": [
    "# Center width"
   ]
  },
  {
   "cell_type": "code",
   "execution_count": 25,
   "id": "8db1af09-fdb5-4f79-84da-ace9dfb5d223",
   "metadata": {},
   "outputs": [],
   "source": [
    "center_widths = np.array([8, 16, 32, 256, 1024])*1e-9\n",
    "\n",
    "design_dicts = []\n",
    "for c_width in center_widths:\n",
    "\n",
    "    Ncenter = c_width / sim_params_std.dx\n",
    "\n",
    "    args = (elem_params_std, int(Ncenter), z, modes, evals)\n",
    "\n",
    "    design_dict = copy.deepcopy(design_dict_std)\n",
    "    design_dict[\"args\"] = args\n",
    "    \n",
    "    design_dicts.append(design_dict)"
   ]
  },
  {
   "cell_type": "code",
   "execution_count": 26,
   "id": "008dd912-6cbe-4a99-83ec-d56d577021e9",
   "metadata": {},
   "outputs": [
    {
     "name": "stdout",
     "output_type": "stream",
     "text": [
      "finished design dict 0\n",
      "time elapsed: 55 s\n",
      "----------------------------------\n",
      "finished design dict 1\n",
      "time elapsed: 110 s\n",
      "----------------------------------\n",
      "finished design dict 2\n",
      "time elapsed: 165 s\n",
      "----------------------------------\n",
      "finished design dict 3\n",
      "time elapsed: 219 s\n",
      "----------------------------------\n",
      "finished design dict 4\n",
      "time elapsed: 274 s\n",
      "----------------------------------\n"
     ]
    }
   ],
   "source": [
    "torch.cuda.empty_cache()\n",
    "threshold_opt_sweep_save(design_dicts, threshold_opt_sweep, \"center_width_incoh\")"
   ]
  },
  {
   "cell_type": "markdown",
   "id": "87c30979-2267-4b26-a452-65a4ee672e6c",
   "metadata": {},
   "source": [
    "# Focal length"
   ]
  },
  {
   "cell_type": "code",
   "execution_count": 89,
   "id": "6ac0ce3b-9c02-4502-a6c2-0eda1887a4c4",
   "metadata": {},
   "outputs": [],
   "source": [
    "focal_lengths = np.array([0.1, 1, 5, 10, 50, 100])*1e-3\n",
    "\n",
    "design_dicts = []\n",
    "for f in focal_lengths:\n",
    "\n",
    "    args = (elem_params_std, int(Ncenter), f, modes, evals)\n",
    "    \n",
    "    design_dict = copy.deepcopy(design_dict_std)\n",
    "\n",
    "    design_dict[\"args\"] = args\n",
    "    \n",
    "    design_dicts.append(design_dict)"
   ]
  },
  {
   "cell_type": "code",
   "execution_count": 90,
   "id": "a1a8cfc6-c9a6-4411-846c-42c53ae32528",
   "metadata": {},
   "outputs": [
    {
     "name": "stdout",
     "output_type": "stream",
     "text": [
      "finished design dict 0\n",
      "time elapsed: 60 s\n",
      "----------------------------------\n",
      "finished design dict 1\n",
      "time elapsed: 119 s\n",
      "----------------------------------\n",
      "finished design dict 2\n",
      "time elapsed: 174 s\n",
      "----------------------------------\n",
      "finished design dict 3\n",
      "time elapsed: 228 s\n",
      "----------------------------------\n",
      "finished design dict 4\n",
      "time elapsed: 283 s\n",
      "----------------------------------\n",
      "finished design dict 5\n",
      "time elapsed: 338 s\n",
      "----------------------------------\n"
     ]
    }
   ],
   "source": [
    "threshold_opt_sweep_save(design_dicts, threshold_opt_sweep, \"focal_length_incoh\")"
   ]
  },
  {
   "cell_type": "markdown",
   "id": "0bf5b67b-7a48-4981-b04f-da94846c7c12",
   "metadata": {},
   "source": [
    "# Min feature size"
   ]
  },
  {
   "cell_type": "code",
   "execution_count": 43,
   "id": "7c01296a-999d-4be0-bc09-b6c3ce5bbd43",
   "metadata": {},
   "outputs": [],
   "source": [
    "ns = [4, 8, 16, 32, 64, 128, 256]\n",
    "design_dicts = []\n",
    "\n",
    "for n in ns:\n",
    "    design_dict = copy.deepcopy(design_dict_std) \n",
    "    design_dict[\"opt_params\"][\"n\"] = n\n",
    "\n",
    "    Ncenter = n\n",
    "    args = (elem_params_std, int(Ncenter), z)\n",
    "\n",
    "    design_dict[\"args\"] = args\n",
    "    \n",
    "    design_dicts.append(design_dict)"
   ]
  },
  {
   "cell_type": "code",
   "execution_count": 44,
   "id": "331ee7d4-bfbd-404e-ba25-9e16c25435d7",
   "metadata": {},
   "outputs": [
    {
     "name": "stdout",
     "output_type": "stream",
     "text": [
      "finished design dict 0\n",
      "time elapsed: 9 s\n",
      "----------------------------------\n",
      "finished design dict 1\n",
      "time elapsed: 18 s\n",
      "----------------------------------\n",
      "finished design dict 2\n",
      "time elapsed: 27 s\n",
      "----------------------------------\n",
      "finished design dict 3\n",
      "time elapsed: 37 s\n",
      "----------------------------------\n",
      "finished design dict 4\n",
      "time elapsed: 48 s\n",
      "----------------------------------\n",
      "finished design dict 5\n",
      "time elapsed: 60 s\n",
      "----------------------------------\n",
      "finished design dict 6\n",
      "time elapsed: 77 s\n",
      "----------------------------------\n"
     ]
    }
   ],
   "source": [
    "threshold_opt_sweep_save(design_dicts, threshold_opt_sweep, \"min_feature_size\")"
   ]
  },
  {
   "cell_type": "markdown",
   "id": "7808b885-82b4-401f-afa3-5c01599fe551",
   "metadata": {},
   "source": [
    "# Intitial guess zero width"
   ]
  },
  {
   "cell_type": "code",
   "execution_count": 60,
   "id": "10928903-7f53-47df-af17-d6c54fa64f4c",
   "metadata": {},
   "outputs": [
    {
     "data": {
      "text/plain": [
       "array([0.00e+00, 1.60e-08, 3.20e-08, 6.40e-08, 1.28e-07, 2.56e-07,\n",
       "       5.12e-07])"
      ]
     },
     "execution_count": 60,
     "metadata": {},
     "output_type": "execute_result"
    }
   ],
   "source": [
    "Wzeros"
   ]
  },
  {
   "cell_type": "code",
   "execution_count": 61,
   "id": "1f8ec90e-5555-4029-b126-2e31793d9520",
   "metadata": {},
   "outputs": [
    {
     "name": "stdout",
     "output_type": "stream",
     "text": [
      "0\n",
      "1\n",
      "2\n",
      "4\n",
      "8\n",
      "16\n",
      "32\n"
     ]
    }
   ],
   "source": [
    "Wzeros = np.array([0, 16, 32, 64, 128, 256, 512])*1e-9\n",
    "design_dicts = []\n",
    "\n",
    "for Wz in Wzeros:\n",
    "    design_dict = copy.deepcopy(design_dict_std) \n",
    "    \n",
    "    Nz = int(Wz / (sim_params_std.dx * n))\n",
    "    print(Nz)\n",
    "    x_init = torch.rand(sim_params_std.Nx // n // 2).cpu().numpy()\n",
    "    x_init[x_init.shape[0]-Nz:] = 0\n",
    "\n",
    "    design_dict[\"opt_params\"][\"x_init\"] = x_init\n",
    "\n",
    "    design_dicts.append(design_dict)"
   ]
  },
  {
   "cell_type": "code",
   "execution_count": 45,
   "id": "b7ea4cb7-ae47-46b8-8878-6fa356f781a1",
   "metadata": {},
   "outputs": [
    {
     "name": "stdout",
     "output_type": "stream",
     "text": [
      "finished design dict 0\n",
      "time elapsed: 11 s\n",
      "----------------------------------\n",
      "finished design dict 1\n",
      "time elapsed: 23 s\n",
      "----------------------------------\n",
      "finished design dict 2\n",
      "time elapsed: 34 s\n",
      "----------------------------------\n",
      "finished design dict 3\n",
      "time elapsed: 46 s\n",
      "----------------------------------\n",
      "finished design dict 4\n",
      "time elapsed: 58 s\n",
      "----------------------------------\n",
      "finished design dict 5\n",
      "time elapsed: 69 s\n",
      "----------------------------------\n",
      "finished design dict 6\n",
      "time elapsed: 80 s\n",
      "----------------------------------\n"
     ]
    }
   ],
   "source": [
    "threshold_opt_sweep_save(design_dicts, threshold_opt_sweep, \"x_init_zero\")"
   ]
  },
  {
   "cell_type": "markdown",
   "id": "967be925-f127-4ec5-9437-ef1ca57267e3",
   "metadata": {},
   "source": [
    "# Number of wavelengths"
   ]
  },
  {
   "cell_type": "code",
   "execution_count": 59,
   "id": "29f93917-5276-4ed3-8ed6-4eb21b402eca",
   "metadata": {},
   "outputs": [],
   "source": [
    "Nwvls = [5, 6, 7, 8, 9, 10, 12, 15, 20, 30, 40, 50]\n",
    "\n",
    "design_dicts = []\n",
    "for Nwvl in Nwvls:\n",
    "    design_dict = copy.deepcopy(design_dict_std)\n",
    "\n",
    "    lams, weights = kramers_law_weights(\n",
    "        e_min = emin, \n",
    "        e_max = Vp, \n",
    "        N = Nwvl, \n",
    "        filter_weights = True,\n",
    "        filter_thickness = filter_thickness, \n",
    "        filter_material = filter_material,\n",
    "        uniform_energy = True, \n",
    "        device = device\n",
    "    )\n",
    "    \n",
    "    sim_params = SimParams(\n",
    "        Ny=1, \n",
    "        Nx=sim_params_std.Nx, \n",
    "        dx=dx,\n",
    "        device=device, \n",
    "        dtype=torch.complex64,\n",
    "        lams=lams, \n",
    "        weights=weights\n",
    "        )\n",
    "    design_dict[\"sim_params\"] = sim_params\n",
    "    design_dicts.append(design_dict)"
   ]
  },
  {
   "cell_type": "code",
   "execution_count": 60,
   "id": "f88958bf-7c5a-4839-992f-b1ef7b6a2fb8",
   "metadata": {},
   "outputs": [
    {
     "name": "stdout",
     "output_type": "stream",
     "text": [
      "finished design dict 0\n",
      "time elapsed: 4 s\n",
      "----------------------------------\n",
      "finished design dict 1\n",
      "time elapsed: 9 s\n",
      "----------------------------------\n",
      "finished design dict 2\n",
      "time elapsed: 14 s\n",
      "----------------------------------\n",
      "finished design dict 3\n",
      "time elapsed: 20 s\n",
      "----------------------------------\n",
      "finished design dict 4\n",
      "time elapsed: 26 s\n",
      "----------------------------------\n",
      "finished design dict 5\n",
      "time elapsed: 33 s\n",
      "----------------------------------\n",
      "finished design dict 6\n",
      "time elapsed: 41 s\n",
      "----------------------------------\n",
      "finished design dict 7\n",
      "time elapsed: 50 s\n",
      "----------------------------------\n",
      "finished design dict 8\n",
      "time elapsed: 63 s\n",
      "----------------------------------\n",
      "finished design dict 9\n",
      "time elapsed: 80 s\n",
      "----------------------------------\n",
      "finished design dict 10\n",
      "time elapsed: 103 s\n",
      "----------------------------------\n",
      "finished design dict 11\n",
      "time elapsed: 131 s\n",
      "----------------------------------\n"
     ]
    }
   ],
   "source": [
    "threshold_opt_sweep_save(design_dicts, threshold_opt_sweep, \"Nwvl\")"
   ]
  },
  {
   "cell_type": "markdown",
   "id": "4728b26a-ad58-434d-b12d-5d00ec109997",
   "metadata": {},
   "source": [
    "# Iterative optimization over the number of wavelengths"
   ]
  },
  {
   "cell_type": "code",
   "execution_count": null,
   "id": "505ac43c-b49a-4524-91b3-48639375e709",
   "metadata": {},
   "outputs": [],
   "source": [
    "Nwvls = [1, 2, 3, 4, 5, 6, 7, 8]\n",
    "\n",
    "design_dicts = []\n",
    "for Nwvl in Nwvls:\n",
    "    design_dict = copy.deepcopy(design_dict_std)\n",
    "\n",
    "    lams, weights = kramers_law_weights(\n",
    "        e_min = emin, \n",
    "        e_max = Vp, \n",
    "        N = Nwvl, \n",
    "        filter_al = True, \n",
    "        uniform_energy = True, \n",
    "        device = device\n",
    "    )\n",
    "    \n",
    "    sim_params = SimParams(\n",
    "        Ny=1, \n",
    "        Nx=sim_params_std.Nx, \n",
    "        dx=dx,\n",
    "        device=device, \n",
    "        dtype=torch.complex64,\n",
    "        lams=lams, \n",
    "        weights=weights\n",
    "        )\n",
    "    design_dict[\"sim_params\"] = sim_params\n",
    "    design_dicts.append(design_dict)"
   ]
  },
  {
   "cell_type": "code",
   "execution_count": null,
   "id": "a5dee224-a2cf-4af1-815d-e10024cd7239",
   "metadata": {},
   "outputs": [],
   "source": [
    "threshold_opt_sweep_save(design_dicts, threshold_opt_iterative, \"Nwvl_sweep_iterative\")"
   ]
  },
  {
   "cell_type": "markdown",
   "id": "eae55fb5-4188-4e19-821c-86ee13051387",
   "metadata": {},
   "source": [
    "# Bandwidth"
   ]
  },
  {
   "cell_type": "code",
   "execution_count": null,
   "id": "c0d2b471-1deb-43a4-9740-30990f7a8857",
   "metadata": {},
   "outputs": [],
   "source": [
    "bandwidths = [1e-4, 1e-3, 1e-2, 1e-1]\n",
    "\n",
    "design_dicts = []\n",
    "for bwidth in bandwidths:\n",
    "    design_dict = copy.deepcopy(design_dict_std)\n",
    "\n",
    "    lams, weights = quasi_monochromatic_spectrum(\n",
    "        central_energy_ev = Vcenter, \n",
    "        N = Nwvl, \n",
    "        bandwidth = bwidth, \n",
    "        device = device\n",
    "    )\n",
    "    \n",
    "    sim_params = SimParams(\n",
    "        Ny=1, \n",
    "        Nx=sim_params_std.Nx, \n",
    "        dx=dx,\n",
    "        device=device, \n",
    "        dtype=torch.complex64,\n",
    "        lams=lams, \n",
    "        weights=weights\n",
    "        )\n",
    "    design_dict[\"sim_params\"] = sim_params\n",
    "    design_dicts.append(design_dict)"
   ]
  },
  {
   "cell_type": "code",
   "execution_count": null,
   "id": "ba46a2fa-2521-46fa-999e-f5640c50f6aa",
   "metadata": {},
   "outputs": [],
   "source": [
    "threshold_opt_sweep_save(design_dicts, threshold_opt_sweep, \"bandwidth_sweep_correct\")"
   ]
  },
  {
   "cell_type": "code",
   "execution_count": null,
   "id": "8d927e7f-b4f3-454c-830f-894e567b5bfb",
   "metadata": {},
   "outputs": [],
   "source": []
  }
 ],
 "metadata": {
  "kernelspec": {
   "display_name": "Python 3 (ipykernel)",
   "language": "python",
   "name": "python3"
  },
  "language_info": {
   "codemirror_mode": {
    "name": "ipython",
    "version": 3
   },
   "file_extension": ".py",
   "mimetype": "text/x-python",
   "name": "python",
   "nbconvert_exporter": "python",
   "pygments_lexer": "ipython3",
   "version": "3.9.15"
  }
 },
 "nbformat": 4,
 "nbformat_minor": 5
}
